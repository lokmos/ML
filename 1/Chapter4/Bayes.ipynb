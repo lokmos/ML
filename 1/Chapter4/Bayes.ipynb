{
 "cells": [
  {
   "cell_type": "markdown",
   "metadata": {},
   "source": [
    "# 朴素贝叶斯\n",
    "\n",
    "## 贝叶斯理论&条件概率\n",
    "\n",
    "### 贝叶斯理论\n",
    "比较的是 $p(c_1|x, y)$ 和 $p(c_2|x, y)$，这些符号所代表的具体意义是：给定某个由 $x, y$ 表示的数据点，那么该数据点来自类别 $c_1$ 的概率是多少？数据点来自类别 $c_2$ 的概率又是多少？注意这些概率与概率 $p(x, y|c_1)$ 并不一样，不过可以使用贝叶斯准则来交换概率中条件与结果。具体地，应用贝叶斯准则得到：\n",
    "\n",
    "$$\n",
    "p(c_i|x, y) = \\frac{p(x, y|c_i)p(c_i)}{p(x, y)}\n",
    "$$\n",
    "\n",
    "使用上面这些定义，可以定义贝叶斯分类准则为：\n",
    "\n",
    "- 如果 $P(c_1|x, y) > P(c_2|x, y)$，那么属于类别 $c_1$；\n",
    "- 如果 $P(c_2|x, y) > P(c_1|x, y)$，那么属于类别 $c_2$。\n",
    "\n",
    "**朴素贝叶斯的两个假设**\n",
    "-   特征之间相互独立\n",
    "-   每个特征同等重要\n"
   ]
  },
  {
   "cell_type": "code",
   "execution_count": 54,
   "metadata": {},
   "outputs": [],
   "source": [
    "import numpy as np\n",
    "\n",
    "def loadDataSet():\n",
    "    \"\"\"\n",
    "    创建数据集\n",
    "    :return: 单词列表postingList, 所属类别classVec\n",
    "    \"\"\"\n",
    "    postingList = [['my', 'dog', 'has', 'flea', 'problems', 'help', 'please'], \n",
    "                   ['maybe', 'not', 'take', 'him', 'to', 'dog', 'park', 'stupid'],\n",
    "                   ['my', 'dalmation', 'is', 'so', 'cute', 'I', 'love', 'him'],\n",
    "                   ['stop', 'posting', 'stupid', 'worthless', 'garbage'],\n",
    "                   ['mr', 'licks', 'ate', 'my', 'steak', 'how', 'to', 'stop', 'him'],\n",
    "                   ['quit', 'buying', 'worthless', 'dog', 'food', 'stupid']]\n",
    "    classVec = [0, 1, 0, 1, 0, 1]  # 1 is abusive, 0 not\n",
    "    return postingList, classVec\n",
    "\n",
    "def createVocabSet(dataSet):\n",
    "    # 求所有list的并集\n",
    "    return set().union(*dataSet)\n",
    "\n",
    "def setOfWords2Vec(inputSet, vocabSet):\n",
    "    return [1 if word in inputSet else 0 for word in vocabSet]"
   ]
  },
  {
   "cell_type": "markdown",
   "metadata": {},
   "source": [
    "## 从词向量计算概率\n",
    "首先可以通过类别 i (侮辱性留言或者非侮辱性留言)中的文档数除以总的文档数来计算概率 p(ci) 。接下来计算 p(w | ci) ，这里就要用到朴素贝叶斯假设。如果将 w 展开为一个个独立特征，那么就可以将上述概率写作 p(w0, w1, w2...wn | ci) 。这里假设所有词都互相独立，该假设也称作条件独立性假设，它意味着可以使用 p(w0 | ci)p(w1 | ci)p(w2 | ci)...p(wn | ci) 来计算上述概率，这样就极大地简化了计算的过程。"
   ]
  },
  {
   "cell_type": "code",
   "execution_count": 55,
   "metadata": {},
   "outputs": [],
   "source": [
    "def _trainNB0(trainMatrix, trainCategory):\n",
    "    \"\"\"\n",
    "    :param trainMatrix: 文件单词矩阵 [[1,0,1,1,1....],[],[]...]\n",
    "    :param trainCategory: 文件对应的类别[0,1,1,0....]，列表长度等于单词矩阵数，其中的1代表对应的文件是侮辱性文件，0代表不是侮辱性矩阵\n",
    "    :return:\n",
    "    \"\"\"\n",
    "\n",
    "    # 文件数\n",
    "    numTrainDocs = len(trainMatrix)\n",
    "    # 单词数\n",
    "    numWords = len(trainMatrix[0])\n",
    "    # 侮辱性文件的出现概率，即trainCategory中所有的1的个数\n",
    "    pAbusive = sum(trainCategory) / float(numTrainDocs)\n",
    "    # 构造单词出现次数列表\n",
    "    p0Num = np.zeros(numWords)\n",
    "    p1Num = np.zeros(numWords)\n",
    "\n",
    "    # 整个数据集单词出现的次数\n",
    "    p0Denom = 0.0\n",
    "    p1Denom = 0.0\n",
    "\n",
    "    for i in range(numTrainDocs):\n",
    "        if trainCategory[i] == 1:\n",
    "            # 累加辱骂词的频次\n",
    "            p1Num += trainMatrix[i]\n",
    "            p1Denom += sum(trainMatrix[i])\n",
    "        else:\n",
    "            p0Num += trainMatrix[i]\n",
    "            p0Denom += sum(trainMatrix[i])\n",
    "\n",
    "    # 类别1，即侮辱性文档的[P(F1|C1),P(F2|C1),P(F3|C1),P(F4|C1),P(F5|C1)....]列表\n",
    "    # 即 在1类别下，每个单词出现的概率\n",
    "    p1Vect = p1Num / p1Denom# [1,2,3,5]/90->[1/90,...]\n",
    "    # 类别0，即正常文档的[P(F1|C0),P(F2|C0),P(F3|C0),P(F4|C0),P(F5|C0)....]列表\n",
    "    # 即 在0类别下，每个单词出现的概率\n",
    "    p0Vect = p0Num / p0Denom\n",
    "    return p0Vect, p1Vect, pAbusive"
   ]
  },
  {
   "cell_type": "markdown",
   "metadata": {},
   "source": [
    "## 优化\n",
    "在利用贝叶斯分类器对文档进行分类时，要计算多个概率的乘积以获得文档属于某个类别的概率，即计算 p(w0|1) * p(w1|1) * p(w2|1)。如果其中一个概率值为 0，那么最后的乘积也为 0。为降低这种影响，可以将所有词的出现数初始化为 1，并将分母初始化为 2 （取1 或 2 的目的主要是为了保证分子和分母不为0，可以根据业务需求进行更改）。\n",
    "\n",
    "另一个遇到的问题是下溢出，这是由于太多很小的数相乘造成的。当计算乘积 p(w0|ci) * p(w1|ci) * p(w2|ci)... p(wn|ci) 时，由于大部分因子都非常小，所以程序会下溢出或者得到不正确的答案。（用 Python 尝试相乘许多很小的数，最后四舍五入后会得到 0）。一种解决办法是对乘积取自然对数。在代数中有 ln(a * b) = ln(a) + ln(b), 于是通过求对数可以避免下溢出或者浮点数舍入导致的错误。同时，采用自然对数进行处理不会有任何损失。"
   ]
  },
  {
   "cell_type": "code",
   "execution_count": 56,
   "metadata": {},
   "outputs": [],
   "source": [
    "def trainNB0(trainMatrix, trainCategory):\n",
    "    numTrainDocs = len(trainMatrix)\n",
    "    numWords = len(trainMatrix[0])\n",
    "    pAbusive = sum(trainCategory) / float(numTrainDocs)\n",
    "\n",
    "    p0Num = np.ones(numWords)\n",
    "    p1Num = np.ones(numWords)\n",
    "\n",
    "    p0Denom = 2.0\n",
    "    p1Denom = 2.0\n",
    "\n",
    "    for i in range(numTrainDocs):\n",
    "        if trainCategory[i] == 1:\n",
    "            p1Num += trainMatrix[i]\n",
    "            p1Denom += sum(trainMatrix[i]) \n",
    "        else:\n",
    "            p0Num += trainMatrix[i]\n",
    "            p0Denom += sum(trainMatrix[i])\n",
    "\n",
    "    p1Vect = np.log(p1Num / p1Denom)\n",
    "    p0Vect = np.log(p0Num / p0Denom)\n",
    "\n",
    "    return p0Vect, p1Vect, pAbusive\n",
    "    "
   ]
  },
  {
   "cell_type": "code",
   "execution_count": 57,
   "metadata": {},
   "outputs": [
    {
     "name": "stdout",
     "output_type": "stream",
     "text": [
      "['love', 'my', 'dalmation'] classified as:  0\n"
     ]
    }
   ],
   "source": [
    "def classifyNB(vec2Classify, p0Vec, p1Vec, pClass1):\n",
    "    \"\"\"\n",
    "    使用算法: \n",
    "        # 将乘法转换为加法\n",
    "        乘法: P(C|F1F2...Fn) = P(F1F2...Fn|C)P(C)/P(F1F2...Fn)\n",
    "        加法: P(F1|C)*P(F2|C)....P(Fn|C)P(C) -> log(P(F1|C))+log(P(F2|C))+....+log(P(Fn|C))+log(P(C))\n",
    "    :param vec2Classify: 待测数据[0,1,1,1,1...]，即要分类的向量\n",
    "    :param p0Vec: 类别0，即正常文档的[log(P(F1|C0)),log(P(F2|C0)),log(P(F3|C0)),log(P(F4|C0)),log(P(F5|C0))....]列表\n",
    "    :param p1Vec: 类别1，即侮辱性文档的[log(P(F1|C1)),log(P(F2|C1)),log(P(F3|C1)),log(P(F4|C1)),log(P(F5|C1))....]列表\n",
    "    :param pClass1: 类别1，侮辱性文件的出现概率\n",
    "    :return: 类别1 or 0\n",
    "    \"\"\"\n",
    "    # 计算公式  log(P(F1|C))+log(P(F2|C))+....+log(P(Fn|C))+log(P(C))\n",
    "    # 大家可能会发现，上面的计算公式，没有除以贝叶斯准则的公式的分母，也就是 P(w) （P(w) 指的是此文档在所有的文档中出现的概率）就进行概率大小的比较了，\n",
    "    # 因为 P(w) 针对的是包含侮辱和非侮辱的全部文档，所以 P(w) 是相同的。\n",
    "    # 使用 NumPy 数组来计算两个向量相乘的结果，这里的相乘是指对应元素相乘，即先将两个向量中的第一个元素相乘，然后将第2个元素相乘，以此类推。\n",
    "    # 我的理解是: 这里的 vec2Classify * p1Vec 的意思就是将每个词与其对应的概率相关联起来\n",
    "\n",
    "    p1 = sum(vec2Classify * p1Vec) + np.log(pClass1)\n",
    "    p0 = sum(vec2Classify * p0Vec) + np.log(1.0 - pClass1)\n",
    "    return 1 if p1 > p0 else 0\n",
    "\n",
    "def testingNB():\n",
    "    listOPosts, listClasses = loadDataSet()\n",
    "    myVocabSet = createVocabSet(listOPosts)\n",
    "    trainMat = []\n",
    "    for postinDoc in listOPosts:\n",
    "        trainMat.append(setOfWords2Vec(set(postinDoc), myVocabSet))\n",
    "    p0V, p1V, pAb = trainNB0(np.array(trainMat), np.array(listClasses))\n",
    "    testEntry = ['love', 'my', 'dalmation']\n",
    "    thisDoc = np.array(setOfWords2Vec(testEntry, myVocabSet))\n",
    "    print(testEntry, 'classified as: ', classifyNB(thisDoc, p0V, p1V, pAb))\n",
    "\n",
    "if __name__ == '__main__':\n",
    "    testingNB()"
   ]
  },
  {
   "cell_type": "markdown",
   "metadata": {},
   "source": [
    "## 实践2：分类邮件"
   ]
  },
  {
   "cell_type": "code",
   "execution_count": 58,
   "metadata": {},
   "outputs": [],
   "source": [
    "# for i in range(1, 26):\n",
    "#     f = open(r'D:\\Tools\\Onedrive\\Code\\VsCode\\Py_Work\\Machine_Learning\\1\\Chapter4\\ham\\25.txt').read()"
   ]
  },
  {
   "cell_type": "code",
   "execution_count": 59,
   "metadata": {},
   "outputs": [
    {
     "name": "stdout",
     "output_type": "stream",
     "text": [
      "0 classified as:  1\n",
      "[]\n",
      "1 classified as:  1\n",
      "0 classified as:  1\n",
      "[]\n",
      "0 classified as:  1\n",
      "[]\n",
      "0 classified as:  1\n",
      "[]\n",
      "0 classified as:  1\n",
      "[]\n",
      "0 classified as:  1\n",
      "[]\n",
      "1 classified as:  1\n",
      "1 classified as:  1\n",
      "1 classified as:  1\n"
     ]
    }
   ],
   "source": [
    "# 切分文本\n",
    "def textParse(bigString):\n",
    "    import re\n",
    "    # 使用正则表达式来切分句子，其中分隔符是除单词、数字外的任意字符串\n",
    "    listOfTokens = re.split(r'\\W*', bigString)\n",
    "    return [tok.lower() for tok in listOfTokens if len(tok) > 2]\n",
    "\n",
    "def spamTest():\n",
    "    docList = []\n",
    "    classList = []\n",
    "\n",
    "    for i in range(1, 26):\n",
    "        wordList = textParse(open(r'D:\\Tools\\Onedrive\\Code\\VsCode\\Py_Work\\Machine_Learning\\1\\Chapter4\\ham\\%d.txt' % i, errors='ignore').read())\n",
    "        docList.append(wordList)\n",
    "        classList.append(0)\n",
    "\n",
    "        wordList = textParse(open(r'D:\\Tools\\Onedrive\\Code\\VsCode\\Py_Work\\Machine_Learning\\1\\Chapter4\\spam\\%d.txt' % i, errors='ignore').read())\n",
    "        docList.append(wordList)\n",
    "        classList.append(1)\n",
    "\n",
    "    vocabSet = createVocabSet(docList)\n",
    "\n",
    "    # 假设 docList 和 classList 已经通过前面的代码构建完成\n",
    "    import random\n",
    "    dataIndex = list(range(50))  # 共 50 封邮件，25 封垃圾邮件，25 封非垃圾邮件\n",
    "    random.shuffle(dataIndex)  # 随机打乱索引\n",
    "\n",
    "    # 80% 用于训练集，20% 用于测试集\n",
    "    trainIndex = dataIndex[:40]  # 前 40 个作为训练集\n",
    "    testIndex = dataIndex[40:]   # 后 10 个作为测试集\n",
    "\n",
    "    # 构建训练集\n",
    "    trainMat = []\n",
    "    trainClasses = []\n",
    "    for idx in trainIndex:\n",
    "        trainMat.append(setOfWords2Vec(set(docList[idx]), vocabSet))  # 将词汇列表转换为词向量\n",
    "        trainClasses.append(classList[idx])  # 对应的标签（0 或 1）\n",
    "\n",
    "    # 构建测试集\n",
    "    testMat = []\n",
    "    testClasses = []\n",
    "    for idx in testIndex:\n",
    "        testMat.append(setOfWords2Vec(set(docList[idx]), vocabSet))  # 将词汇列表转换为词向量\n",
    "        testClasses.append(classList[idx])  # 对应的标签（0 或 1）\n",
    "    \n",
    "    p0V, p1V, pSpam = trainNB0(np.array(trainMat), np.array(trainClasses))\n",
    "    for idx in range(len(testMat)):\n",
    "        thisDoc = np.array(testMat[idx])\n",
    "        print(testClasses[idx], 'classified as: ', classifyNB(thisDoc, p0V, p1V, pSpam))\n",
    "        if testClasses[idx] != classifyNB(thisDoc, p0V, p1V, pSpam):\n",
    "            print(docList[testIndex[idx]])\n",
    "\n",
    "if __name__ == '__main__':\n",
    "    spamTest()\n",
    "\n"
   ]
  }
 ],
 "metadata": {
  "kernelspec": {
   "display_name": "Violet",
   "language": "python",
   "name": "python3"
  },
  "language_info": {
   "codemirror_mode": {
    "name": "ipython",
    "version": 3
   },
   "file_extension": ".py",
   "mimetype": "text/x-python",
   "name": "python",
   "nbconvert_exporter": "python",
   "pygments_lexer": "ipython3",
   "version": "3.11.5"
  }
 },
 "nbformat": 4,
 "nbformat_minor": 2
}
