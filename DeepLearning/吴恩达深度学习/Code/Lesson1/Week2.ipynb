{
 "cells": [
  {
   "cell_type": "code",
   "execution_count": null,
   "metadata": {},
   "outputs": [
    {
     "name": "stdout",
     "output_type": "stream",
     "text": [
      "[1 2 3 4]\n",
      "(4,)\n",
      "(1000000,)\n",
      "()\n",
      "Vectorized version:0.9961128234863281ms\n",
      "249986.34395889757\n",
      "For loop:276.4005661010742ms\n"
     ]
    }
   ],
   "source": [
    "import numpy as np #导入numpy库\n",
    "a = np.array([1,2,3,4]) #创建一个数据a\n",
    "print(a)\n",
    "print(a.shape)\n",
    "# [1 2 3 4]\n",
    "\n",
    "import time #导入时间库\n",
    "a = np.random.rand(1000000) # （1000000,）的一维数组\n",
    "print(a.shape)\n",
    "b = np.random.rand(1000000) #通过round随机得到两个一百万维度的数组\n",
    "tic = time.time() #现在测量一下当前时间\n",
    "\n",
    "#向量化的版本\n",
    "c = np.dot(a,b) # 通过np.dot函数计算两个向量的点积\n",
    "print(c.shape)\n",
    "toc = time.time()\n",
    "print(\"Vectorized version:\" + str(1000*(toc-tic)) +\"ms\") #打印一下向量化的版本的时间\n",
    "\n",
    "#继续增加非向量化的版本\n",
    "c = 0\n",
    "tic = time.time()\n",
    "for i in range(1000000):\n",
    "    c += a[i]*b[i]\n",
    "toc = time.time()\n",
    "print(\"For loop:\" + str(1000*(toc-tic)) + \"ms\")#打印for循环的版本的时间"
   ]
  }
 ],
 "metadata": {
  "kernelspec": {
   "display_name": "Violet",
   "language": "python",
   "name": "python3"
  },
  "language_info": {
   "codemirror_mode": {
    "name": "ipython",
    "version": 3
   },
   "file_extension": ".py",
   "mimetype": "text/x-python",
   "name": "python",
   "nbconvert_exporter": "python",
   "pygments_lexer": "ipython3",
   "version": "3.12.0"
  }
 },
 "nbformat": 4,
 "nbformat_minor": 2
}
