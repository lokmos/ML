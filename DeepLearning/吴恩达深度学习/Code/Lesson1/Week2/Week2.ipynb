{
 "cells": [
  {
   "cell_type": "code",
   "execution_count": 1,
   "metadata": {},
   "outputs": [
    {
     "name": "stdout",
     "output_type": "stream",
     "text": [
      "[1 2 3 4]\n",
      "(4,)\n",
      "(1000000,)\n",
      "()\n",
      "Vectorized version:0.4982948303222656ms\n",
      "For loop:280.61962127685547ms\n"
     ]
    }
   ],
   "source": [
    "import numpy as np #导入numpy库\n",
    "a = np.array([1,2,3,4]) #创建一个数据a\n",
    "print(a)\n",
    "print(a.shape)\n",
    "# [1 2 3 4]\n",
    "\n",
    "import time #导入时间库\n",
    "a = np.random.rand(1000000) # （1000000,）的一维数组\n",
    "print(a.shape)\n",
    "b = np.random.rand(1000000) #通过round随机得到两个一百万维度的数组\n",
    "tic = time.time() #现在测量一下当前时间\n",
    "\n",
    "#向量化的版本\n",
    "c = np.dot(a,b) # 通过np.dot函数计算两个向量的点积\n",
    "print(c.shape)\n",
    "toc = time.time()\n",
    "print(\"Vectorized version:\" + str(1000*(toc-tic)) +\"ms\") #打印一下向量化的版本的时间\n",
    "\n",
    "#继续增加非向量化的版本\n",
    "c = 0\n",
    "tic = time.time()\n",
    "for i in range(1000000):\n",
    "    c += a[i]*b[i]\n",
    "toc = time.time()\n",
    "print(\"For loop:\" + str(1000*(toc-tic)) + \"ms\")#打印for循环的版本的时间"
   ]
  },
  {
   "cell_type": "code",
   "execution_count": 2,
   "metadata": {},
   "outputs": [
    {
     "name": "stdout",
     "output_type": "stream",
     "text": [
      "[[94.91525424  0.          2.83140283 88.42652796]\n",
      " [ 2.03389831 43.51464435 33.46203346 10.40312094]\n",
      " [ 3.05084746 56.48535565 63.70656371  1.17035111]]\n"
     ]
    }
   ],
   "source": [
    "A = np.array([[56.0, 0.0, 4.4, 68.0],\n",
    "              [1.2, 104.0, 52.0, 8.0],\n",
    "              [1.8, 135.0, 99.0, 0.9]]) #创建一个3*4的矩阵\n",
    "\n",
    "cal = A.sum(axis = 0) # 按行合并，即按列求和，得到 1*4 的矩阵\n",
    "percentage = 100 * A / cal\n",
    "print(percentage)"
   ]
  }
 ],
 "metadata": {
  "kernelspec": {
   "display_name": "Violet",
   "language": "python",
   "name": "python3"
  },
  "language_info": {
   "codemirror_mode": {
    "name": "ipython",
    "version": 3
   },
   "file_extension": ".py",
   "mimetype": "text/x-python",
   "name": "python",
   "nbconvert_exporter": "python",
   "pygments_lexer": "ipython3",
   "version": "3.12.0"
  }
 },
 "nbformat": 4,
 "nbformat_minor": 2
}
